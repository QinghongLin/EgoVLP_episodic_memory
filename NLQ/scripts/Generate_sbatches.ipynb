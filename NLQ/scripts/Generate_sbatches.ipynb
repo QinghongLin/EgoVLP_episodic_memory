{
 "cells": [
  {
   "cell_type": "code",
   "execution_count": 11,
   "id": "e326d8e9-9986-4fef-a068-6c94f37376e9",
   "metadata": {},
   "outputs": [],
   "source": [
    "def create_sbatches(EXP_NUMBER, BSIZE, LR_RATE, MAXPOSLEN):\n",
    "    STRING =    f'#!/bin/sh                         \\n' \\\n",
    "                '#SBATCH -N 1                       \\n' \\\n",
    "                '#SBATCH --job-name=VSLNet          \\n' \\\n",
    "                '#SBATCH --time=5:59:00             \\n' \\\n",
    "                '#SBATCH --cpus-per-task=6          \\n' \\\n",
    "                '#SBATCH --mem=90GB                 \\n' \\\n",
    "                '#SBATCH --gres=gpu:1               \\n' \\\n",
    "                '#SBATCH --chdir=/ibex/ai/home/soldanm/projects/nips22/episodic-memory/NLQ/VSLNet/                  \\n' \\\n",
    "                '#SBATCH -o logs/%x_%A_%a.out       \\n' \\\n",
    "                '#SBATCH -e logs/%x_%A_%a.err       \\n' \\\n",
    "                '#SBATCH --array=0                  \\n' \\\n",
    "                '                                   \\n' \\\n",
    "                'module load gcc                    \\n' \\\n",
    "                '                                   \\n' \\\n",
    "                'echo \"######################### SLURM JOB ########################\"            \\n' \\\n",
    "                'echo HOST NAME                     \\n' \\\n",
    "                'echo `hostname`                    \\n' \\\n",
    "                'echo \"############################################################\"            \\n' \\\n",
    "                '                                   \\n' \\\n",
    "                'environment=ego                    \\n' \\\n",
    "                'conda_root=$HOME/anaconda3         \\n' \\\n",
    "                'source $conda_root/etc/profile.d/conda.sh                                       \\n' \\\n",
    "                'conda activate $environment        \\n' \\\n",
    "                'set -ex                            \\n' \\\n",
    "                '# ------------------------ need not change -----------------------------------  \\n' \\\n",
    "                'LANG=EgoVLP                        \\n' \\\n",
    "                'VISUAL=egovlp                      \\n' \\\n",
    "                'VISUALSIZE=256                     \\n' \\\n",
    "                '                                   \\n' \\\n",
    "                'python main.py                            \\\\\\n' \\\n",
    "                '--task nlq_official_v1                    \\\\\\n' \\\n",
    "                '--predictor $LANG                         \\\\\\n' \\\n",
    "                '--mode train                              \\\\\\n' \\\n",
    "                '--video_feature_dim $VISUALSIZE           \\\\\\n' \\\n",
    "                f'--max_pos_len {MAXPOSLEN}                \\\\\\n' \\\n",
    "                '--epochs 200                              \\\\\\n' \\\n",
    "                '--fv $VISUAL                              \\\\\\n' \\\n",
    "                '--num_workers 6                           \\\\\\n' \\\n",
    "                f'--model_dir checkpoints/hps_search_egovlp/egovlp_batch_{BSIZE}_lr_{LR_RATE}_POS_{MAXPOSLEN}                \\\\\\n' \\\n",
    "                '--eval_gt_json \"/ibex/ai/home/soldanm/projects/nips22/episodic-memory/NLQ/VSLNet/data/nlq_val.json\"        \\\\\\n' \\\n",
    "                f'--batch_size {BSIZE}                     \\\\\\n' \\\n",
    "                f'--init_lr {LR_RATE}                      \\n'  \\\n",
    "    \n",
    "    text_file = open(f\"./generated/HPS_SEARCH_{EXP_NUMBER}.sh\", \"w\")\n",
    "    n = text_file.write(STRING)\n",
    "    text_file.close()"
   ]
  },
  {
   "cell_type": "code",
   "execution_count": 12,
   "id": "2d3f0ca5-7584-49cd-9d4f-6c09f34be0fb",
   "metadata": {},
   "outputs": [
    {
     "name": "stdout",
     "output_type": "stream",
     "text": [
      "Total Number of experiments 96.\n"
     ]
    }
   ],
   "source": [
    "EXP_NUMBER = 0\n",
    "\n",
    "for BSIZE in [4, 8, 16, 32, 128, 512]:\n",
    "    for LR_RATE in [0.0005,0.0001,0.00005,0.00001]:\n",
    "        for MAXPOSLEN in [64,128,256,512]:\n",
    "            create_sbatches(EXP_NUMBER, BSIZE, LR_RATE, MAXPOSLEN)\n",
    "            EXP_NUMBER+=1\n",
    "                        \n",
    "print(f'Total Number of experiments {EXP_NUMBER}.')\n"
   ]
  },
  {
   "cell_type": "code",
   "execution_count": null,
   "id": "9b796a52-62d2-4b13-8895-2328e9a39eea",
   "metadata": {},
   "outputs": [],
   "source": []
  }
 ],
 "metadata": {
  "kernelspec": {
   "display_name": "Python 3",
   "language": "python",
   "name": "python3"
  },
  "language_info": {
   "codemirror_mode": {
    "name": "ipython",
    "version": 3
   },
   "file_extension": ".py",
   "mimetype": "text/x-python",
   "name": "python",
   "nbconvert_exporter": "python",
   "pygments_lexer": "ipython3",
   "version": "3.7.10"
  }
 },
 "nbformat": 4,
 "nbformat_minor": 5
}
