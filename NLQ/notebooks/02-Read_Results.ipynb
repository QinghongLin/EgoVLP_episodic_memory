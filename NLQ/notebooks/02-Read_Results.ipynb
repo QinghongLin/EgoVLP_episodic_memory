{
 "cells": [
  {
   "cell_type": "markdown",
   "id": "be97292a-3a6e-4255-9b3b-9e3a29ce1547",
   "metadata": {},
   "source": [
    "# Read results of HPS"
   ]
  },
  {
   "cell_type": "code",
   "execution_count": 31,
   "id": "7dc0fdc0-4888-4992-849e-5060876448c9",
   "metadata": {},
   "outputs": [],
   "source": [
    "import os\n",
    "import numpy as np"
   ]
  },
  {
   "cell_type": "code",
   "execution_count": 32,
   "id": "c192585d-6407-4ccf-988e-cc136f232962",
   "metadata": {},
   "outputs": [],
   "source": [
    "root = '/home/soldanm/Documents/projects/nips22/episodic-memory/NLQ/VSLNet/checkpoints/hps_search_ht100m/'\n",
    "folders = sorted(os.listdir(root))"
   ]
  },
  {
   "cell_type": "code",
   "execution_count": 33,
   "id": "2f7240a8-cf5a-4eae-bc27-c993d9c5290f",
   "metadata": {},
   "outputs": [
    {
     "name": "stdout",
     "output_type": "stream",
     "text": [
      "['cc3mwebvid_batch_128_lr_0.0001_POS_128', 'cc3mwebvid_batch_128_lr_0.0001_POS_256', 'cc3mwebvid_batch_128_lr_0.0001_POS_512', 'cc3mwebvid_batch_128_lr_0.0001_POS_64', 'cc3mwebvid_batch_128_lr_0.0005_POS_128', 'cc3mwebvid_batch_128_lr_0.0005_POS_256', 'cc3mwebvid_batch_128_lr_0.0005_POS_512', 'cc3mwebvid_batch_128_lr_0.0005_POS_64', 'cc3mwebvid_batch_128_lr_1e-05_POS_128', 'cc3mwebvid_batch_128_lr_1e-05_POS_256', 'cc3mwebvid_batch_128_lr_1e-05_POS_512', 'cc3mwebvid_batch_128_lr_1e-05_POS_64', 'cc3mwebvid_batch_128_lr_5e-05_POS_128', 'cc3mwebvid_batch_128_lr_5e-05_POS_256', 'cc3mwebvid_batch_128_lr_5e-05_POS_512', 'cc3mwebvid_batch_128_lr_5e-05_POS_64', 'cc3mwebvid_batch_16_lr_0.0001_POS_128', 'cc3mwebvid_batch_16_lr_0.0001_POS_256', 'cc3mwebvid_batch_16_lr_0.0001_POS_512', 'cc3mwebvid_batch_16_lr_0.0001_POS_64', 'cc3mwebvid_batch_16_lr_0.0005_POS_128', 'cc3mwebvid_batch_16_lr_0.0005_POS_256', 'cc3mwebvid_batch_16_lr_0.0005_POS_512', 'cc3mwebvid_batch_16_lr_0.0005_POS_64', 'cc3mwebvid_batch_16_lr_1e-05_POS_128', 'cc3mwebvid_batch_16_lr_1e-05_POS_256', 'cc3mwebvid_batch_16_lr_1e-05_POS_512', 'cc3mwebvid_batch_16_lr_1e-05_POS_64', 'cc3mwebvid_batch_16_lr_5e-05_POS_128', 'cc3mwebvid_batch_16_lr_5e-05_POS_256', 'cc3mwebvid_batch_16_lr_5e-05_POS_512', 'cc3mwebvid_batch_16_lr_5e-05_POS_64', 'cc3mwebvid_batch_32_lr_0.0001_POS_128', 'cc3mwebvid_batch_32_lr_0.0001_POS_256', 'cc3mwebvid_batch_32_lr_0.0001_POS_512', 'cc3mwebvid_batch_32_lr_0.0001_POS_64', 'cc3mwebvid_batch_32_lr_0.0005_POS_128', 'cc3mwebvid_batch_32_lr_0.0005_POS_256', 'cc3mwebvid_batch_32_lr_0.0005_POS_512', 'cc3mwebvid_batch_32_lr_0.0005_POS_64', 'cc3mwebvid_batch_32_lr_1e-05_POS_128', 'cc3mwebvid_batch_32_lr_1e-05_POS_256', 'cc3mwebvid_batch_32_lr_1e-05_POS_512', 'cc3mwebvid_batch_32_lr_1e-05_POS_64', 'cc3mwebvid_batch_32_lr_5e-05_POS_128', 'cc3mwebvid_batch_32_lr_5e-05_POS_256', 'cc3mwebvid_batch_32_lr_5e-05_POS_512', 'cc3mwebvid_batch_32_lr_5e-05_POS_64', 'cc3mwebvid_batch_4_lr_0.0001_POS_128', 'cc3mwebvid_batch_4_lr_0.0001_POS_256', 'cc3mwebvid_batch_4_lr_0.0001_POS_512', 'cc3mwebvid_batch_4_lr_0.0001_POS_64', 'cc3mwebvid_batch_4_lr_0.0005_POS_128', 'cc3mwebvid_batch_4_lr_0.0005_POS_256', 'cc3mwebvid_batch_4_lr_0.0005_POS_512', 'cc3mwebvid_batch_4_lr_0.0005_POS_64', 'cc3mwebvid_batch_4_lr_1e-05_POS_128', 'cc3mwebvid_batch_4_lr_1e-05_POS_256', 'cc3mwebvid_batch_4_lr_1e-05_POS_512', 'cc3mwebvid_batch_4_lr_1e-05_POS_64', 'cc3mwebvid_batch_4_lr_5e-05_POS_128', 'cc3mwebvid_batch_4_lr_5e-05_POS_256', 'cc3mwebvid_batch_4_lr_5e-05_POS_512', 'cc3mwebvid_batch_4_lr_5e-05_POS_64', 'cc3mwebvid_batch_512_lr_0.0001_POS_128', 'cc3mwebvid_batch_512_lr_0.0001_POS_256', 'cc3mwebvid_batch_512_lr_0.0001_POS_512', 'cc3mwebvid_batch_512_lr_0.0001_POS_64', 'cc3mwebvid_batch_512_lr_0.0005_POS_128', 'cc3mwebvid_batch_512_lr_0.0005_POS_256', 'cc3mwebvid_batch_512_lr_0.0005_POS_512', 'cc3mwebvid_batch_512_lr_0.0005_POS_64', 'cc3mwebvid_batch_512_lr_1e-05_POS_128', 'cc3mwebvid_batch_512_lr_1e-05_POS_256', 'cc3mwebvid_batch_512_lr_1e-05_POS_512', 'cc3mwebvid_batch_512_lr_1e-05_POS_64', 'cc3mwebvid_batch_512_lr_5e-05_POS_128', 'cc3mwebvid_batch_512_lr_5e-05_POS_256', 'cc3mwebvid_batch_512_lr_5e-05_POS_512', 'cc3mwebvid_batch_512_lr_5e-05_POS_64', 'cc3mwebvid_batch_8_lr_0.0001_POS_128', 'cc3mwebvid_batch_8_lr_0.0001_POS_256', 'cc3mwebvid_batch_8_lr_0.0001_POS_512', 'cc3mwebvid_batch_8_lr_0.0001_POS_64', 'cc3mwebvid_batch_8_lr_0.0005_POS_128', 'cc3mwebvid_batch_8_lr_0.0005_POS_256', 'cc3mwebvid_batch_8_lr_0.0005_POS_512', 'cc3mwebvid_batch_8_lr_0.0005_POS_64', 'cc3mwebvid_batch_8_lr_1e-05_POS_128', 'cc3mwebvid_batch_8_lr_1e-05_POS_256', 'cc3mwebvid_batch_8_lr_1e-05_POS_512', 'cc3mwebvid_batch_8_lr_1e-05_POS_64', 'cc3mwebvid_batch_8_lr_5e-05_POS_128', 'cc3mwebvid_batch_8_lr_5e-05_POS_256', 'cc3mwebvid_batch_8_lr_5e-05_POS_512', 'cc3mwebvid_batch_8_lr_5e-05_POS_64']\n"
     ]
    }
   ],
   "source": [
    "print(folders)"
   ]
  },
  {
   "cell_type": "code",
   "execution_count": 34,
   "id": "1e3c6e32-7b8e-4b1e-9996-c948dbce1e39",
   "metadata": {},
   "outputs": [
    {
     "name": "stdout",
     "output_type": "stream",
     "text": [
      "cc3mwebvid_batch_128_lr_0.0001_POS_128 \t2.17\t1.29\t5.78\t3.28\n",
      "cc3mwebvid_batch_128_lr_0.0001_POS_256 \t1.32\t0.57\t5.65\t3.36\n",
      "cc3mwebvid_batch_128_lr_0.0001_POS_512 \t1.06\t0.52\t5.42\t3.33\n",
      "cc3mwebvid_batch_128_lr_0.0001_POS_64 \t2.48\t1.26\t6.22\t3.23\n",
      "cc3mwebvid_batch_128_lr_0.0005_POS_128 \t3.38\t1.73\t7.82\t4.26\n",
      "cc3mwebvid_batch_128_lr_0.0005_POS_256 \t3.36\t1.86\t8.11\t4.49\n",
      "cc3mwebvid_batch_128_lr_0.0005_POS_512 \t2.79\t1.47\t6.79\t3.85\n",
      "cc3mwebvid_batch_128_lr_0.0005_POS_64 \t3.36\t1.65\t8.23\t4.21\n",
      "cc3mwebvid_batch_128_lr_1e-05_POS_128 \t1.81\t1.01\t5.68\t3.28\n",
      "cc3mwebvid_batch_128_lr_1e-05_POS_256 \t0.93\t0.49\t5.5\t3.2\n",
      "cc3mwebvid_batch_128_lr_1e-05_POS_512 \t0.65\t0.21\t5.42\t3.33\n",
      "cc3mwebvid_batch_128_lr_1e-05_POS_64 \t2.32\t1.19\t5.34\t3.02\n",
      "cc3mwebvid_batch_128_lr_5e-05_POS_128 \t1.73\t1.01\t5.68\t3.28\n",
      "cc3mwebvid_batch_128_lr_5e-05_POS_256 \t1.01\t0.54\t5.6\t3.33\n",
      "cc3mwebvid_batch_128_lr_5e-05_POS_512 \t0.62\t0.23\t5.37\t3.25\n",
      "cc3mwebvid_batch_128_lr_5e-05_POS_64 \t2.3\t1.19\t5.42\t3.12\n",
      "cc3mwebvid_batch_16_lr_0.0001_POS_128 \t3.05\t1.6\t7.95\t4.47\n",
      "cc3mwebvid_batch_16_lr_0.0001_POS_256 \t2.84\t1.37\t7.12\t3.98\n",
      "cc3mwebvid_batch_16_lr_0.0001_POS_512 \t2.37\t1.32\t6.25\t3.48\n",
      "cc3mwebvid_batch_16_lr_0.0001_POS_64 \t3.25\t1.57\t8.23\t4.23\n",
      "cc3mwebvid_batch_16_lr_0.0005_POS_128 \t3.54\t1.91\t8.47\t4.83\n",
      "cc3mwebvid_batch_16_lr_0.0005_POS_256 \t3.46\t1.91\t7.95\t4.78\n",
      "cc3mwebvid_batch_16_lr_0.0005_POS_512 \t2.81\t1.52\t6.66\t3.87\n",
      "cc3mwebvid_batch_16_lr_0.0005_POS_64 \t3.82\t1.86\t8.98\t4.7\n",
      "cc3mwebvid_batch_16_lr_1e-05_POS_128 \t1.65\t0.96\t5.68\t3.28\n",
      "cc3mwebvid_batch_16_lr_1e-05_POS_256 \t0.98\t0.52\t5.58\t3.23\n",
      "cc3mwebvid_batch_16_lr_1e-05_POS_512 \t0.52\t0.21\t5.39\t3.3\n",
      "cc3mwebvid_batch_16_lr_1e-05_POS_64 \t2.32\t1.21\t5.39\t3.05\n",
      "cc3mwebvid_batch_16_lr_5e-05_POS_128 \t2.35\t1.14\t6.56\t3.51\n",
      "cc3mwebvid_batch_16_lr_5e-05_POS_256 \t1.47\t0.77\t5.99\t3.36\n",
      "cc3mwebvid_batch_16_lr_5e-05_POS_512 \t1.73\t0.9\t5.58\t3.33\n",
      "cc3mwebvid_batch_16_lr_5e-05_POS_64 \t2.76\t1.5\t6.92\t3.79\n",
      "cc3mwebvid_batch_32_lr_0.0001_POS_128 \t2.87\t1.39\t7.28\t3.87\n",
      "cc3mwebvid_batch_32_lr_0.0001_POS_256 \t2.32\t1.11\t6.5\t3.51\n",
      "cc3mwebvid_batch_32_lr_0.0001_POS_512 \t1.57\t0.85\t5.63\t3.18\n",
      "cc3mwebvid_batch_32_lr_0.0001_POS_64 \t2.76\t1.34\t7.46\t3.85\n",
      "cc3mwebvid_batch_32_lr_0.0005_POS_128 \t3.61\t1.94\t8.42\t4.78\n",
      "cc3mwebvid_batch_32_lr_0.0005_POS_256 \t3.25\t1.76\t8.05\t4.44\n",
      "cc3mwebvid_batch_32_lr_0.0005_POS_512 \t3.25\t1.57\t7.15\t3.9\n",
      "cc3mwebvid_batch_32_lr_0.0005_POS_64 \t3.92\t1.99\t9.06\t4.8\n",
      "cc3mwebvid_batch_32_lr_1e-05_POS_128 \t2.58\t1.08\t5.68\t3.25\n",
      "cc3mwebvid_batch_32_lr_1e-05_POS_256 \t0.93\t0.49\t5.47\t3.18\n",
      "cc3mwebvid_batch_32_lr_1e-05_POS_512 \t0.59\t0.21\t5.5\t3.25\n",
      "cc3mwebvid_batch_32_lr_1e-05_POS_64 \t2.27\t1.14\t5.37\t3.07\n",
      "cc3mwebvid_batch_32_lr_5e-05_POS_128 \t2.12\t1.26\t5.68\t3.38\n",
      "cc3mwebvid_batch_32_lr_5e-05_POS_256 \t1.26\t0.62\t5.55\t3.2\n",
      "cc3mwebvid_batch_32_lr_5e-05_POS_512 \t0.88\t0.46\t5.47\t3.28\n",
      "cc3mwebvid_batch_32_lr_5e-05_POS_64 \t2.5\t1.37\t6.07\t3.28\n",
      "cc3mwebvid_batch_4_lr_0.0001_POS_128 \t3.56\t1.86\t8.52\t4.8\n",
      "cc3mwebvid_batch_4_lr_0.0001_POS_256 \t3.36\t1.86\t7.9\t4.62\n",
      "cc3mwebvid_batch_4_lr_0.0001_POS_512 \t3.28\t1.94\t7.43\t4.26\n",
      "cc3mwebvid_batch_4_lr_0.0001_POS_64 \t3.43\t1.83\t8.29\t4.57\n",
      "cc3mwebvid_batch_4_lr_0.0005_POS_128 \t4.05\t2.25\t8.83\t5.27\n",
      "cc3mwebvid_batch_4_lr_0.0005_POS_256 \t3.95\t2.3\t8.31\t5.03\n",
      "cc3mwebvid_batch_4_lr_0.0005_POS_512 \t3.54\t1.99\t7.38\t4.41\n",
      "cc3mwebvid_batch_4_lr_0.0005_POS_64 \t3.9\t2.09\t9.06\t4.78\n",
      "cc3mwebvid_batch_4_lr_1e-05_POS_128 \t1.78\t1.14\t5.63\t3.3\n",
      "cc3mwebvid_batch_4_lr_1e-05_POS_256 \t1.16\t0.65\t5.42\t3.2\n",
      "cc3mwebvid_batch_4_lr_1e-05_POS_512 \t0.65\t0.31\t5.73\t3.2\n",
      "cc3mwebvid_batch_4_lr_1e-05_POS_64 \t2.43\t1.29\t5.94\t3.25\n",
      "cc3mwebvid_batch_4_lr_5e-05_POS_128 \t3.07\t1.47\t7.9\t4.13\n",
      "cc3mwebvid_batch_4_lr_5e-05_POS_256 \t2.94\t1.68\t7.61\t4.72\n",
      "cc3mwebvid_batch_4_lr_5e-05_POS_512 \t2.43\t1.37\t6.56\t3.56\n",
      "cc3mwebvid_batch_4_lr_5e-05_POS_64 \t3.59\t1.86\t8.57\t4.59\n",
      "cc3mwebvid_batch_512_lr_0.0001_POS_128 \t1.65\t0.96\t5.63\t3.2\n",
      "cc3mwebvid_batch_512_lr_0.0001_POS_256 \t1.03\t0.54\t5.63\t3.38\n",
      "cc3mwebvid_batch_512_lr_0.0001_POS_512 \t0.62\t0.23\t5.5\t3.33\n",
      "cc3mwebvid_batch_512_lr_0.0001_POS_64 \t2.32\t1.21\t5.5\t3.23\n",
      "cc3mwebvid_batch_512_lr_0.0005_POS_128 \t2.94\t1.34\t7.77\t4.16\n",
      "cc3mwebvid_batch_512_lr_0.0005_POS_256 \t2.84\t1.6\t7.05\t4.05\n",
      "cc3mwebvid_batch_512_lr_0.0005_POS_512 \t2.04\t1.01\t6.27\t3.33\n",
      "cc3mwebvid_batch_512_lr_0.0005_POS_64 \t2.94\t1.45\t7.54\t3.72\n",
      "cc3mwebvid_batch_512_lr_1e-05_POS_128 \t2.09\t1.01\t5.96\t3.18\n",
      "cc3mwebvid_batch_512_lr_1e-05_POS_256 \t1.08\t0.49\t5.52\t3.25\n",
      "cc3mwebvid_batch_512_lr_1e-05_POS_512 \t0.7\t0.31\t5.39\t3.33\n",
      "cc3mwebvid_batch_512_lr_1e-05_POS_64 \t2.3\t1.19\t5.42\t3.12\n",
      "cc3mwebvid_batch_512_lr_5e-05_POS_128 \t1.78\t0.96\t5.91\t3.3\n",
      "cc3mwebvid_batch_512_lr_5e-05_POS_256 \t0.93\t0.49\t5.6\t3.36\n",
      "cc3mwebvid_batch_512_lr_5e-05_POS_512 \t0.62\t0.21\t5.34\t3.23\n",
      "cc3mwebvid_batch_512_lr_5e-05_POS_64 \t2.3\t1.19\t5.45\t3.12\n",
      "cc3mwebvid_batch_8_lr_0.0001_POS_128 \t3.1\t1.55\t7.59\t4.39\n",
      "cc3mwebvid_batch_8_lr_0.0001_POS_256 \t3.18\t1.6\t7.98\t4.26\n",
      "cc3mwebvid_batch_8_lr_0.0001_POS_512 \t2.81\t1.42\t6.63\t3.72\n",
      "cc3mwebvid_batch_8_lr_0.0001_POS_64 \t3.61\t1.6\t8.54\t4.47\n",
      "cc3mwebvid_batch_8_lr_0.0005_POS_128 \t3.69\t1.94\t8.72\t5.01\n",
      "cc3mwebvid_batch_8_lr_0.0005_POS_256 \t3.51\t1.76\t7.67\t4.62\n",
      "cc3mwebvid_batch_8_lr_0.0005_POS_512 \t3.3\t2.04\t7.33\t4.52\n",
      "cc3mwebvid_batch_8_lr_0.0005_POS_64 \t3.95\t2.01\t9.03\t4.96\n",
      "cc3mwebvid_batch_8_lr_1e-05_POS_128 \t1.68\t0.96\t5.68\t3.28\n",
      "cc3mwebvid_batch_8_lr_1e-05_POS_256 \t1.01\t0.52\t5.47\t3.28\n",
      "cc3mwebvid_batch_8_lr_1e-05_POS_512 \t0.59\t0.21\t5.27\t3.18\n",
      "cc3mwebvid_batch_8_lr_1e-05_POS_64 \t2.32\t1.21\t5.37\t3.12\n",
      "cc3mwebvid_batch_8_lr_5e-05_POS_128 \t2.76\t1.37\t7.59\t4.0\n",
      "cc3mwebvid_batch_8_lr_5e-05_POS_256 \t2.58\t1.45\t6.92\t3.92\n",
      "cc3mwebvid_batch_8_lr_5e-05_POS_512 \t1.78\t1.03\t5.45\t3.2\n",
      "cc3mwebvid_batch_8_lr_5e-05_POS_64 \t2.97\t1.39\t8.0\t3.67\n"
     ]
    }
   ],
   "source": [
    "for f in folders:\n",
    "    subfolder = sorted(os.listdir(f'{root}/{f}'))[0]    \n",
    "    content = open(f'{root}/{f}/{subfolder}/model/eval_results.txt').readlines()\n",
    "    numbers = [c.strip('\\n').replace(' ','').split('|') for c in content[4::5]]\n",
    "    numbers = np.asarray([[float(v) for v in n if v!= ''] for n in numbers])\n",
    "    print(f, f'\\t{numbers[:,0].max()}\\t{numbers[:,1].max()}\\t{numbers[:,6].max()}\\t{numbers[:,7].max()}')\n"
   ]
  },
  {
   "cell_type": "code",
   "execution_count": null,
   "id": "585ba574-be8a-45a5-ba11-5ee02cec90f4",
   "metadata": {},
   "outputs": [],
   "source": []
  }
 ],
 "metadata": {
  "kernelspec": {
   "display_name": "Python 3",
   "language": "python",
   "name": "python3"
  },
  "language_info": {
   "codemirror_mode": {
    "name": "ipython",
    "version": 3
   },
   "file_extension": ".py",
   "mimetype": "text/x-python",
   "name": "python",
   "nbconvert_exporter": "python",
   "pygments_lexer": "ipython3",
   "version": "3.7.13"
  }
 },
 "nbformat": 4,
 "nbformat_minor": 5
}
