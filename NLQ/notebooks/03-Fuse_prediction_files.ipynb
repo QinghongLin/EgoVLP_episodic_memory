{
 "cells": [
  {
   "cell_type": "markdown",
   "id": "58e4c05d-ad1b-42ab-b5cb-e64f30f2f9c4",
   "metadata": {},
   "source": [
    "# Let's fuse two prediction files:"
   ]
  },
  {
   "cell_type": "code",
   "execution_count": 8,
   "id": "73ba2b9f-1b54-4b6f-a45a-95d44cae47f2",
   "metadata": {},
   "outputs": [],
   "source": [
    "import sys\n",
    "import json"
   ]
  },
  {
   "cell_type": "code",
   "execution_count": 7,
   "id": "9ae364ce-b3b4-4f5a-a03e-52171acb369d",
   "metadata": {},
   "outputs": [],
   "source": [
    "f1 = json.load(open('../checkpoints/best_model/egovlp_batch_4_lr_0.0005_POS_256/vslnet_nlq_official_v1_egovlp_256_EgoVLP/model/vslnet_59262_test_result.json','r'))\n",
    "f2 = json.load(open('../checkpoints/best_model/egovlp_egonce_batch_32_lr_0.0005_POS_256/vslnet_nlq_official_v1_egovlp_egonce_256_EgoVLP/model/vslnet_7392_test_result.json','r'))\n",
    "f3 = {'version': f1['version'],'challenge': f1['challenge'], 'results':[]}"
   ]
  },
  {
   "cell_type": "code",
   "execution_count": 9,
   "id": "1839d1ba-108b-4220-a90d-b6d971d6a81e",
   "metadata": {},
   "outputs": [
    {
     "name": "stdout",
     "output_type": "stream",
     "text": [
      "{'clip_uid': 'a603669a-57f9-4db4-8a81-0a6720946d45', 'annotation_uid': 'f7e9c1c6-1381-4df2-9121-f0b1f437282d', 'query_idx': 0, 'predicted_times': [[0.0, 1.875], [0.0, 412.5], [0.0, 408.75], [0.0, 363.75], [0.0, 5.625]]}\n",
      "\n",
      "{'clip_uid': 'a603669a-57f9-4db4-8a81-0a6720946d45', 'annotation_uid': 'f7e9c1c6-1381-4df2-9121-f0b1f437282d', 'query_idx': 0, 'predicted_times': [[401.25, 408.75], [403.125, 408.75], [401.25, 410.625], [403.125, 410.625], [401.25, 405.0]]}\n"
     ]
    },
    {
     "ename": "SystemExit",
     "evalue": "0",
     "output_type": "error",
     "traceback": [
      "An exception has occurred, use %tb to see the full traceback.\n",
      "\u001b[0;31mSystemExit\u001b[0m\u001b[0;31m:\u001b[0m 0\n"
     ]
    },
    {
     "name": "stderr",
     "output_type": "stream",
     "text": [
      "/home/soldanm/anaconda3/envs/ego/lib/python3.7/site-packages/IPython/core/interactiveshell.py:3532: UserWarning: To exit: use 'exit', 'quit', or Ctrl-D.\n",
      "  warn(\"To exit: use 'exit', 'quit', or Ctrl-D.\", stacklevel=1)\n"
     ]
    }
   ],
   "source": [
    "for pred1,pred2 in zip(f1['results'],f2['results']):\n",
    "    print(pred1)\n",
    "    print()\n",
    "    print(pred2)\n",
    "    sys.exit(0)"
   ]
  },
  {
   "cell_type": "code",
   "execution_count": 6,
   "id": "faba6fdc-c50f-4b70-8112-a31feaa4f125",
   "metadata": {},
   "outputs": [
    {
     "data": {
      "text/plain": [
       "list"
      ]
     },
     "execution_count": 6,
     "metadata": {},
     "output_type": "execute_result"
    }
   ],
   "source": [
    "type(f1['results'])"
   ]
  },
  {
   "cell_type": "code",
   "execution_count": null,
   "id": "bce8e314-8fb8-4b9a-87db-8cf656e55312",
   "metadata": {},
   "outputs": [],
   "source": []
  }
 ],
 "metadata": {
  "kernelspec": {
   "display_name": "Python 3",
   "language": "python",
   "name": "python3"
  },
  "language_info": {
   "codemirror_mode": {
    "name": "ipython",
    "version": 3
   },
   "file_extension": ".py",
   "mimetype": "text/x-python",
   "name": "python",
   "nbconvert_exporter": "python",
   "pygments_lexer": "ipython3",
   "version": "3.7.13"
  }
 },
 "nbformat": 4,
 "nbformat_minor": 5
}
