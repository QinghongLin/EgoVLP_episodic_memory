{
 "cells": [
  {
   "cell_type": "code",
   "execution_count": 33,
   "id": "97e6c1af-5f1c-480e-a246-37e22fdeb768",
   "metadata": {},
   "outputs": [],
   "source": [
    "import os\n",
    "import json\n",
    "from tqdm import tqdm"
   ]
  },
  {
   "cell_type": "code",
   "execution_count": 3,
   "id": "2bef5d8b-4a14-40db-9394-d0096aa6fab0",
   "metadata": {},
   "outputs": [],
   "source": [
    "#load annotations\n",
    "train = json.load(open('/home/soldanm/Documents/projects/nips22/episodic-memory/NLQ/VSLNet/data/dataset/nlq_official_v1/train.json','r'))\n",
    "val   = json.load(open('/home/soldanm/Documents/projects/nips22/episodic-memory/NLQ/VSLNet/data/dataset/nlq_official_v1/val.json','r'))\n",
    "test  = json.load(open('/home/soldanm/Documents/projects/nips22/episodic-memory/NLQ/VSLNet/data/dataset/nlq_official_v1/test.json','r'))"
   ]
  },
  {
   "cell_type": "code",
   "execution_count": 28,
   "id": "41478e90-7d83-47c7-8039-de60c9882c22",
   "metadata": {},
   "outputs": [
    {
     "name": "stdout",
     "output_type": "stream",
     "text": [
      "453bf120-65a3-4616-bbd7-51bafdaac44d\n",
      "{'fps': 1.875, 'num_frames': 899, 'timestamps': [[68, 72], [149, 155], [267, 282], [590, 592], [610, 615], [177, 181], [186, 198], [9, 14], [116, 119], [175, 180], [605, 619], [895, 900]], 'exact_times': [[36.42709, 38.427], [79.97017, 82.97], [142.56648, 150.566], [314.8216, 315.821], [325.48363, 328.483], [94.49978, 96.852], [99.5514, 105.947], [4.96075, 7.928], [62.19819, 63.921], [93.34147, 96.115], [323.05814, 330.387], [477.47954, 480.048]], 'sentences': ['where did i put the wood?', 'where is the bottle?', 'where did i put the piece of metal?', 'where did i put the pliers?', 'where is the nail gun?', 'where was the socket set pack before i removed it ?', 'how many socket sets did i remove from the pack ?', 'what size of washer did i pick ?', 'where was the tool case before i picked it ?', 'how many drawers did i open ?', 'what color of shirt was she wearing ?', 'where was the cordless drill ?'], 'annotation_uids': ['f2ca9cb0-702e-46fe-81e8-7ca64aad8e89', 'f2ca9cb0-702e-46fe-81e8-7ca64aad8e89', 'f2ca9cb0-702e-46fe-81e8-7ca64aad8e89', 'f2ca9cb0-702e-46fe-81e8-7ca64aad8e89', 'f2ca9cb0-702e-46fe-81e8-7ca64aad8e89', 'c6a8b15d-073a-4f10-a723-eb6c5ca82ab1', 'c6a8b15d-073a-4f10-a723-eb6c5ca82ab1', 'c6a8b15d-073a-4f10-a723-eb6c5ca82ab1', 'c6a8b15d-073a-4f10-a723-eb6c5ca82ab1', 'c6a8b15d-073a-4f10-a723-eb6c5ca82ab1', 'c6a8b15d-073a-4f10-a723-eb6c5ca82ab1', 'c6a8b15d-073a-4f10-a723-eb6c5ca82ab1'], 'query_idx': [0, 1, 2, 3, 4, 0, 1, 2, 3, 4, 5, 6]}\n",
      "torch.Size([897, 256])\n",
      "torch.Size([901, 2304])\n"
     ]
    }
   ],
   "source": [
    "keys = list(val.keys())\n",
    "idx = 3\n",
    "print(keys[idx])\n",
    "print(val[keys[idx]])\n",
    "\n",
    "kevin   = torch.load(f'/home/soldanm/Documents/Datasets/Ego4D/EgoVLP features/NLQ/ego4d_4m_4f_base_256d/{keys[idx]}.pt')\n",
    "slowfast = torch.load(f'/home/soldanm/Documents/projects/nips22/episodic-memory/NLQ/VSLNet/data/features/nlq_official_v1/official/{keys[idx]}.pt')\n",
    "\n",
    "print(kevin.shape)\n",
    "print(slowfast.shape)"
   ]
  },
  {
   "cell_type": "code",
   "execution_count": null,
   "id": "f43ea9a0-3a5b-48c1-8818-38d46d65ec49",
   "metadata": {},
   "outputs": [],
   "source": []
  },
  {
   "cell_type": "code",
   "execution_count": 34,
   "id": "2f75cc86-8fab-4879-8852-a7b7bb59b070",
   "metadata": {},
   "outputs": [
    {
     "name": "stderr",
     "output_type": "stream",
     "text": [
      "100%|██████████| 1326/1326 [00:01<00:00, 938.53it/s] \n"
     ]
    }
   ],
   "source": [
    "feat_shapes = {}\n",
    "root = '/home/soldanm/Documents/projects/nips22/episodic-memory/NLQ/VSLNet/data/features/nlq_official_v1/EgoVLP/'\n",
    "files = os.listdir(root)\n",
    "for f in tqdm(files):\n",
    "    k = f.strip('.pt')\n",
    "    feat_shapes[k] = torch.load(f'/home/soldanm/Documents/projects/nips22/episodic-memory/NLQ/VSLNet/data/features/nlq_official_v1/EgoVLP/{k}.pt').shape[0]"
   ]
  },
  {
   "cell_type": "code",
   "execution_count": 36,
   "id": "63d59f5b-9814-4947-84bb-5fc504ad74b0",
   "metadata": {},
   "outputs": [],
   "source": [
    "json.dump(feat_shapes,open('/home/soldanm/Documents/projects/nips22/episodic-memory/NLQ/VSLNet/data/features/nlq_official_v1/EgoVLP/feature_shapes.json','w'))"
   ]
  },
  {
   "cell_type": "code",
   "execution_count": null,
   "id": "424bf258-10e4-4969-a373-b0c4f9a8bf51",
   "metadata": {},
   "outputs": [],
   "source": []
  }
 ],
 "metadata": {
  "kernelspec": {
   "display_name": "Python 3",
   "language": "python",
   "name": "python3"
  },
  "language_info": {
   "codemirror_mode": {
    "name": "ipython",
    "version": 3
   },
   "file_extension": ".py",
   "mimetype": "text/x-python",
   "name": "python",
   "nbconvert_exporter": "python",
   "pygments_lexer": "ipython3",
   "version": "3.7.13"
  }
 },
 "nbformat": 4,
 "nbformat_minor": 5
}
