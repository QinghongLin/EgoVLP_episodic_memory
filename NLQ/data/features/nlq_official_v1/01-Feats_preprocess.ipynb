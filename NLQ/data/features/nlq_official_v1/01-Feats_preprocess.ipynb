{
 "cells": [
  {
   "cell_type": "markdown",
   "id": "73385242-41af-4812-9f8a-d7a9bc5ae135",
   "metadata": {},
   "source": [
    "# Create video features json file"
   ]
  },
  {
   "cell_type": "code",
   "execution_count": 1,
   "id": "a225d08f-2c7a-4f11-b551-d90a757ed479",
   "metadata": {},
   "outputs": [
    {
     "name": "stderr",
     "output_type": "stream",
     "text": [
      "/home/soldanm/anaconda3/envs/ego/lib/python3.7/site-packages/tqdm/auto.py:22: TqdmWarning: IProgress not found. Please update jupyter and ipywidgets. See https://ipywidgets.readthedocs.io/en/stable/user_install.html\n",
      "  from .autonotebook import tqdm as notebook_tqdm\n"
     ]
    }
   ],
   "source": [
    "import os\n",
    "import json\n",
    "import torch"
   ]
  },
  {
   "cell_type": "code",
   "execution_count": 6,
   "id": "bf2f6d76-2386-49cd-8daa-245b2a9a6094",
   "metadata": {},
   "outputs": [],
   "source": [
    "# folder = './cc3mwebvid'\n",
    "# folder = './egovlp'\n",
    "# folder = './egovlp_egonce'\n",
    "folder = './ht100m'\n",
    "files = sorted(os.listdir(folder))\n",
    "files = [f for f in files if '.pt' in f]\n",
    "feature_shapes = {}\n",
    "for f in files:\n",
    "    k = f.strip('.pt')\n",
    "    feat = torch.load(f'{folder}/{f}')\n",
    "    feature_shapes[k] = feat.shape[0]\n",
    "json.dump(feature_shapes, open(f'{folder}/feature_shapes.json','w'))\n",
    "    "
   ]
  },
  {
   "cell_type": "code",
   "execution_count": 7,
   "id": "0430243c-aef5-447b-8980-8edb05612564",
   "metadata": {},
   "outputs": [
    {
     "data": {
      "text/plain": [
       "1659"
      ]
     },
     "execution_count": 7,
     "metadata": {},
     "output_type": "execute_result"
    }
   ],
   "source": [
    "len(files)"
   ]
  },
  {
   "cell_type": "code",
   "execution_count": null,
   "id": "92cba958-fb6f-4c22-a2cf-ce0c8789ea3f",
   "metadata": {},
   "outputs": [],
   "source": []
  }
 ],
 "metadata": {
  "kernelspec": {
   "display_name": "Python 3",
   "language": "python",
   "name": "python3"
  },
  "language_info": {
   "codemirror_mode": {
    "name": "ipython",
    "version": 3
   },
   "file_extension": ".py",
   "mimetype": "text/x-python",
   "name": "python",
   "nbconvert_exporter": "python",
   "pygments_lexer": "ipython3",
   "version": "3.7.13"
  }
 },
 "nbformat": 4,
 "nbformat_minor": 5
}
