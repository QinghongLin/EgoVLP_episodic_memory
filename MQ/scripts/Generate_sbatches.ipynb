{
 "cells": [
  {
   "cell_type": "code",
   "execution_count": 3,
   "id": "e326d8e9-9986-4fef-a068-6c94f37376e9",
   "metadata": {},
   "outputs": [],
   "source": [
    "def create_sbatches(EXP_NUMBER, INPUT_DIM, BSIZE, LR_RATE, STEP, GAMMA):\n",
    "    STRING = f'#!/bin/sh                         \\n' \\\n",
    "             '#SBATCH -N 1                       \\n' \\\n",
    "             '#SBATCH --job-name=MAD_RANDOM      \\n' \\\n",
    "             '#SBATCH --time=5:59:00             \\n' \\\n",
    "             '#SBATCH --cpus-per-task=6          \\n' \\\n",
    "             '#SBATCH --mem=180GB                \\n' \\\n",
    "             '#SBATCH --gres=gpu:2               \\n' \\\n",
    "             '#SBATCH --chdir=/ibex/ai/home/soldanm/projects/nips22/episodic-memory/MQ/    \\n' \\\n",
    "             '#SBATCH -o logs/%x_%A_%a.out       \\n' \\\n",
    "             '#SBATCH -e logs/%x_%A_%a.err       \\n' \\\n",
    "             '#SBATCH --array=0                  \\n' \\\n",
    "             '                                   \\n' \\\n",
    "             'module load gcc                    \\n' \\\n",
    "             '                                   \\n' \\\n",
    "             'echo \"######################### SLURM JOB ########################\"          \\n' \\\n",
    "             'echo HOST NAME                     \\n' \\\n",
    "             'echo `hostname`                    \\n' \\\n",
    "             'echo \"############################################################\"          \\n' \\\n",
    "             '                                   \\n' \\\n",
    "             'environment=ego                    \\n' \\\n",
    "             'conda_root=$HOME/anaconda3         \\n' \\\n",
    "             'source $conda_root/etc/profile.d/conda.sh                                     \\n' \\\n",
    "             'conda activate $environment        \\n' \\\n",
    "             'set -ex                            \\n' \\\n",
    "             '# ------------------------ need not change -----------------------------------                              \\n' \\\n",
    "             'FEATURES=/ibex/ai/home/soldanm/projects/nips22/episodic-memory/MQ/Evaluation/ego4d/egoclip_egonce            \\n' \\\n",
    "             f'CHECKPOINT=./outputs/hps_search_egoclip_egonce_features/{EXP_NUMBER}/                                       \\n' \\\n",
    "             f'INPUT_DIM={INPUT_DIM}             \\n' \\\n",
    "             f'BSIZE={BSIZE}                     \\n' \\\n",
    "             f'LR_RATE={LR_RATE}                 \\n' \\\n",
    "             f'STEP={STEP}                       \\n' \\\n",
    "             f'GAMMA={GAMMA}                     \\n' \\\n",
    "             '                                   \\n' \\\n",
    "             'python Train.py --use_xGPN --is_train true --dataset ego4d --feature_path $FEATURES --checkpoint_path $CHECKPOINT --batch_size $BSIZE --train_lr $LR_RATE --step_size $STEP --step_gamma $GAMMA --input_feat_dim $INPUT_DIM                  \\n' \\\n",
    "             'python Infer.py --use_xGPN --is_train false --dataset ego4d --feature_path $FEATURES --checkpoint_path $CHECKPOINT --input_feat_dim $INPUT_DIM --output_path $CHECKPOINT                  \\n' \\\n",
    "             'python Eval.py --dataset ego4d --output_path $CHECKPOINT --out_prop_map true --eval_stage all > ${CHECKPOINT}/results.txt ' \n",
    "    \n",
    "    text_file = open(f\"./generated/HPS_SEARCH_{EXP_NUMBER}.sh\", \"w\")\n",
    "    n = text_file.write(STRING)\n",
    "    text_file.close()"
   ]
  },
  {
   "cell_type": "code",
   "execution_count": 4,
   "id": "2d3f0ca5-7584-49cd-9d4f-6c09f34be0fb",
   "metadata": {},
   "outputs": [
    {
     "name": "stdout",
     "output_type": "stream",
     "text": [
      "Total Number of experiments 144.\n"
     ]
    }
   ],
   "source": [
    "EXP_NUMBER = 0\n",
    "INPUT_DIM=256\n",
    "\n",
    "for BSIZE in [8,16,32]:\n",
    "    for LR_RATE in [0.0005,0.0001,0.00005,0.00001]:\n",
    "        for STEP in [5,15,30]:\n",
    "            for GAMMA in [0.5,0.25,0.1,0.05]:\n",
    "                create_sbatches(EXP_NUMBER, INPUT_DIM, BSIZE, LR_RATE, STEP, GAMMA)\n",
    "                EXP_NUMBER+=1\n",
    "                        \n",
    "print(f'Total Number of experiments {EXP_NUMBER}.')\n"
   ]
  },
  {
   "cell_type": "code",
   "execution_count": null,
   "id": "9b796a52-62d2-4b13-8895-2328e9a39eea",
   "metadata": {},
   "outputs": [],
   "source": []
  }
 ],
 "metadata": {
  "kernelspec": {
   "display_name": "Python 3",
   "language": "python",
   "name": "python3"
  },
  "language_info": {
   "codemirror_mode": {
    "name": "ipython",
    "version": 3
   },
   "file_extension": ".py",
   "mimetype": "text/x-python",
   "name": "python",
   "nbconvert_exporter": "python",
   "pygments_lexer": "ipython3",
   "version": "3.7.10"
  }
 },
 "nbformat": 4,
 "nbformat_minor": 5
}
