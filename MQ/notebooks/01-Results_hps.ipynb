{
 "cells": [
  {
   "cell_type": "markdown",
   "id": "4f4aec99-8c28-4e8d-aec5-b41d62fb02d9",
   "metadata": {},
   "source": [
    "# This notebooks lets us read the results from many files produces through hyperparameters search"
   ]
  },
  {
   "cell_type": "code",
   "execution_count": 1,
   "id": "5c0ef438-0d17-4754-af6a-1e4acdec0be3",
   "metadata": {},
   "outputs": [],
   "source": [
    "import os\n",
    "import json\n",
    "from pprint import pprint"
   ]
  },
  {
   "cell_type": "code",
   "execution_count": 2,
   "id": "a50314c8-72c8-48fd-98aa-f31e281d3f46",
   "metadata": {},
   "outputs": [],
   "source": [
    "root = '/home/soldanm/Documents/projects/nips22/episodic-memory/MQ/outputs/hps_search/'\n",
    "folders = sorted(os.listdir(root))"
   ]
  },
  {
   "cell_type": "code",
   "execution_count": 6,
   "id": "cbed85b0-6049-4d06-a8f9-42748b33f9d1",
   "metadata": {},
   "outputs": [],
   "source": [
    "results = {}\n",
    "for f in folders:\n",
    "    results_f = f'{root}{f}/results.txt'\n",
    "    if os.path.exists(results_f):\n",
    "        content = open(results_f).readlines()\n",
    "        recalls = []\n",
    "        for row in content[-5:-2]:\n",
    "            recalls.append(row.replace(' [','').replace('[','').replace(']','').replace('\\n',''))\n",
    "        recalls = ' '.join(recalls).replace('  ',' ')\n",
    "        results[f] = recalls"
   ]
  },
  {
   "cell_type": "code",
   "execution_count": 7,
   "id": "fb10e724-6972-4464-b163-99c45a1faf6a",
   "metadata": {},
   "outputs": [
    {
     "name": "stdout",
     "output_type": "stream",
     "text": [
      "{'1': '0.15945065 0.22811918 0.27513966 0.30190875 0.32495345 0.09939479 '\n",
      "      '0.15409683 0.18947858 0.20810056 0.22439479 0.04934823 0.07774674 '\n",
      "      '0.09427374 0.10311918 0.10870577',\n",
      " '10': '0.16457169 0.23882682 0.28165736 0.31261639 0.33682495 0.09939479 '\n",
      "       '0.15875233 0.1929702 0.21554935 0.23417132 0.05097765 0.08007449 '\n",
      "       '0.09660149 0.10707635 0.11312849'}\n"
     ]
    }
   ],
   "source": [
    "pprint(results)"
   ]
  },
  {
   "cell_type": "code",
   "execution_count": 8,
   "id": "e6e748bf-ab4f-4b73-8726-ce1505b142a7",
   "metadata": {},
   "outputs": [
    {
     "name": "stdout",
     "output_type": "stream",
     "text": [
      "{'1': '0.15945065 0.22811918 0.27513966 0.30190875 0.32495345 0.09939479 0.15409683 0.18947858 0.20810056 0.22439479 0.04934823 0.07774674 0.09427374 0.10311918 0.10870577', '10': '0.16457169 0.23882682 0.28165736 0.31261639 0.33682495 0.09939479 0.15875233 0.1929702 0.21554935 0.23417132 0.05097765 0.08007449 0.09660149 0.10707635 0.11312849'}\n"
     ]
    }
   ],
   "source": [
    "print(results)"
   ]
  },
  {
   "cell_type": "code",
   "execution_count": 11,
   "id": "0c463c1e-38fa-4033-881c-d74d89421347",
   "metadata": {},
   "outputs": [],
   "source": [
    "with open('./parsed_results.txt','w') as f:\n",
    "    for k,v in results.items():\n",
    "        f.write(f'{k} {v}\\n')"
   ]
  },
  {
   "cell_type": "code",
   "execution_count": null,
   "id": "cc6dce52-3d91-428f-95dd-750a48dc3430",
   "metadata": {},
   "outputs": [],
   "source": []
  }
 ],
 "metadata": {
  "kernelspec": {
   "display_name": "Python 3",
   "language": "python",
   "name": "python3"
  },
  "language_info": {
   "codemirror_mode": {
    "name": "ipython",
    "version": 3
   },
   "file_extension": ".py",
   "mimetype": "text/x-python",
   "name": "python",
   "nbconvert_exporter": "python",
   "pygments_lexer": "ipython3",
   "version": "3.7.10"
  }
 },
 "nbformat": 4,
 "nbformat_minor": 5
}
